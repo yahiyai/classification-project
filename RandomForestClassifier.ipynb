{
  "cells": [
    {
      "cell_type": "code",
      "execution_count": 1,
      "metadata": {
        "id": "yZzshwWDhn0o"
      },
      "outputs": [],
      "source": [
        "import numpy as np\n",
        "import pandas as pd\n",
        "import seaborn as sns\n",
        "from pylab import rcParams\n",
        "from scipy.stats import randint\n",
        "import matplotlib.pyplot as plt\n",
        "from sklearn.ensemble import RandomForestClassifier\n",
        "from sklearn.model_selection import RandomizedSearchCV, GridSearchCV \n",
        "from sklearn.metrics import confusion_matrix, accuracy_score"
      ]
    },
    {
      "cell_type": "code",
      "execution_count": 2,
      "metadata": {
        "id": "-Twscv6Bhn0s"
      },
      "outputs": [],
      "source": [
        "# load dataset\n",
        "dataset = pd.read_csv('train.csv',index_col=None)\n",
        "dataset = dataset[dataset.columns[[1,2,3,6,7,9,10,14,15,16,17,18,19,20,21,23,24,25,26,27,28,29,30,31,32,33,34]]]\n",
        "dataset = pd.get_dummies(dataset, drop_first=True)"
      ]
    },
    {
      "cell_type": "code",
      "execution_count": 3,
      "metadata": {
        "id": "sX_42m3ghn0s"
      },
      "outputs": [],
      "source": [
        "X, y = dataset.drop('Loan Status',axis=1), dataset['Loan Status']"
      ]
    },
    {
      "cell_type": "code",
      "execution_count": 4,
      "metadata": {
        "id": "rfYh6POAhn0t"
      },
      "outputs": [],
      "source": [
        "# Synthetic Minority Oversampling Technique \n",
        "from imblearn.over_sampling import SMOTE\n",
        "\n",
        "smote = SMOTE(sampling_strategy='minority')\n",
        "X_sm, y_sm = smote.fit_resample(X, y)\n",
        "\n"
      ]
    },
    {
      "cell_type": "code",
      "execution_count": 5,
      "metadata": {
        "id": "r47EibJFhn0u"
      },
      "outputs": [],
      "source": [
        "from sklearn.model_selection import train_test_split\n",
        "X_train, X_test, y_train, y_test = train_test_split(X_sm, y_sm, test_size = 0.20, random_state = 0)"
      ]
    },
    {
      "cell_type": "markdown",
      "metadata": {
        "id": "y-2A-9-Nhn0w"
      },
      "source": [
        "## k-Fold Cross Validation"
      ]
    },
    {
      "cell_type": "code",
      "execution_count": 6,
      "metadata": {
        "colab": {
          "base_uri": "https://localhost:8080/"
        },
        "id": "pKkUKO9Chn0z",
        "outputId": "e1c85828-fb02-4686-db35-83f798f1df15"
      },
      "outputs": [
        {
          "output_type": "stream",
          "name": "stdout",
          "text": [
            "Accuracy: 87.61 %\n",
            "Standard Deviation: 0.16 %\n"
          ]
        }
      ],
      "source": [
        "from sklearn.model_selection import cross_val_score\n",
        "randomforest_classifier = RandomForestClassifier(n_estimators=100 , random_state = 42)\n",
        "accuracies = cross_val_score(estimator = randomforest_classifier, X = X_train, y = y_train, cv = 5)\n",
        "print(\"Accuracy: {:.2f} %\".format(accuracies.mean()*100))\n",
        "print(\"Standard Deviation: {:.2f} %\".format(accuracies.std()*100))"
      ]
    },
    {
      "cell_type": "code",
      "execution_count": 7,
      "metadata": {
        "id": "YCn4ViiAhn02"
      },
      "outputs": [],
      "source": [
        "# training\n",
        "randomforest_classifier = RandomForestClassifier(n_estimators=100 ,min_samples_split=2,\\\n",
        "                                                 min_samples_leaf=1, max_features = 'sqrt',\\\n",
        "                                                 max_depth= None, bootstrap = False, random_state = 42)\n",
        "randomforest_classifier.fit(X_train, y_train)\n",
        "y_pred = randomforest_classifier.predict(X_test)"
      ]
    },
    {
      "cell_type": "code",
      "execution_count": 8,
      "metadata": {
        "colab": {
          "base_uri": "https://localhost:8080/"
        },
        "id": "FNHBXuHzhn03",
        "outputId": "217d61b6-3328-4404-c846-6d22676ba78f"
      },
      "outputs": [
        {
          "output_type": "execute_result",
          "data": {
            "text/plain": [
              "array([[11211,   994],\n",
              "       [ 1549, 10735]])"
            ]
          },
          "metadata": {},
          "execution_count": 8
        }
      ],
      "source": [
        "cn_matrix = confusion_matrix(y_test, y_pred)\n",
        "cn_matrix"
      ]
    },
    {
      "cell_type": "code",
      "execution_count": 9,
      "metadata": {
        "colab": {
          "base_uri": "https://localhost:8080/"
        },
        "id": "LVWcU_SKhn05",
        "outputId": "a8bf5809-9c65-4576-d4b9-2070463c44b5"
      },
      "outputs": [
        {
          "output_type": "stream",
          "name": "stdout",
          "text": [
            "                    precision    recall  f1-score   support\n",
            "\n",
            "Not loan defaulter       0.88      0.92      0.90     12205\n",
            "    loan defaulter       0.92      0.87      0.89     12284\n",
            "\n",
            "          accuracy                           0.90     24489\n",
            "         macro avg       0.90      0.90      0.90     24489\n",
            "      weighted avg       0.90      0.90      0.90     24489\n",
            "\n"
          ]
        }
      ],
      "source": [
        "from sklearn.metrics import classification_report\n",
        "labels = ['Not loan defaulter','loan defaulter']\n",
        "print(classification_report(y_test, y_pred, target_names=labels))"
      ]
    },
    {
      "cell_type": "code",
      "source": [
        "from sklearn.metrics import confusion_matrix\n",
        "cn_matrix = confusion_matrix(y_test, y_pred)\n",
        "cn_matrix"
      ],
      "metadata": {
        "colab": {
          "base_uri": "https://localhost:8080/"
        },
        "id": "TopS-wjWiA8A",
        "outputId": "8fcd3860-4062-43ca-9e82-a9ed808e97fe"
      },
      "execution_count": 10,
      "outputs": [
        {
          "output_type": "execute_result",
          "data": {
            "text/plain": [
              "array([[11211,   994],\n",
              "       [ 1549, 10735]])"
            ]
          },
          "metadata": {},
          "execution_count": 10
        }
      ]
    },
    {
      "cell_type": "code",
      "source": [
        "# Confusion matrix RandomForestClassifier\n",
        "rcParams['figure.figsize'] = 7, 6\n",
        "sns.heatmap(cn_matrix, annot=False, cbar=True,fmt='g')\n",
        "plt.savefig('RandomForestClassifier_v2.png', dpi=720);\n",
        "plt.show()"
      ],
      "metadata": {
        "colab": {
          "base_uri": "https://localhost:8080/",
          "height": 374
        },
        "id": "tfmd6t-9iBIw",
        "outputId": "7f238031-cbb1-4166-b97c-0b33da15004d"
      },
      "execution_count": 11,
      "outputs": [
        {
          "output_type": "display_data",
          "data": {
            "image/png": "[encoded data removed]",
            "text/plain": [
              "<Figure size 504x432 with 2 Axes>"
            ]
          },
          "metadata": {
            "needs_background": "light"
          }
        }
      ]
    },
    {
      "cell_type": "code",
      "execution_count": 12,
      "metadata": {
        "id": "aujmdvkzhn05"
      },
      "outputs": [],
      "source": [
        "from sklearn.inspection import permutation_importance\n",
        "\n",
        "result = permutation_importance(randomforest_classifier, X_test, y_test, n_repeats=10, random_state=42)\n",
        "feature_importances = pd.Series(result.importances_mean,index=[*X_test.columns])\n",
        "feature_importances = feature_importances[feature_importances  > 0.03].sort_values(ascending=False, axis=0)"
      ]
    },
    {
      "cell_type": "code",
      "execution_count": 13,
      "metadata": {
        "colab": {
          "base_uri": "https://localhost:8080/",
          "height": 694
        },
        "id": "VNX1P6rohn07",
        "outputId": "4bcd85a1-2d80-4edd-9552-114b956933ed"
      },
      "outputs": [
        {
          "output_type": "stream",
          "name": "stderr",
          "text": [
            "/usr/local/lib/python3.7/dist-packages/seaborn/_decorators.py:43: FutureWarning: Pass the following variables as keyword args: x, y. From version 0.12, the only valid positional argument will be `data`, and passing other arguments without an explicit keyword will result in an error or misinterpretation.\n",
            "  FutureWarning\n"
          ]
        },
        {
          "output_type": "display_data",
          "data": {
            "image/png": "[encoded data removed]",
            "text/plain": [
              "<Figure size 1080x720 with 1 Axes>"
            ]
          },
          "metadata": {}
        }
      ],
      "source": [
        "sns.set_style('ticks')\n",
        "rcParams['figure.figsize'] = 15, 10\n",
        "sns.barplot(feature_importances.index, feature_importances.values)\n",
        "plt.title('Feature Importance', fontsize=12, fontweight='bold',y=1.03)\n",
        "plt.ylabel('Coefficients in Randomforest Classifier',fontweight='bold');\n",
        "plt.xlabel('Features',fontweight='bold');\n",
        "sns.despine()\n",
        "# plt.savefig('randomforest_Classifier_FeatureImportance_Final.png', dpi=720);\n",
        "plt.show()"
      ]
    },
    {
      "cell_type": "code",
      "execution_count": 13,
      "metadata": {
        "id": "GUJIpewShn07"
      },
      "outputs": [],
      "source": [
        ""
      ]
    }
  ],
  "metadata": {
    "kernelspec": {
      "display_name": "Python 3",
      "language": "python",
      "name": "python3"
    },
    "language_info": {
      "codemirror_mode": {
        "name": "ipython",
        "version": 3
      },
      "file_extension": ".py",
      "mimetype": "text/x-python",
      "name": "python",
      "nbconvert_exporter": "python",
      "pygments_lexer": "ipython3",
      "version": "3.7.4"
    },
    "colab": {
      "name": "RandomForest_updated_v3.ipynb",
      "provenance": []
    }
  },
  "nbformat": 4,
  "nbformat_minor": 0
}