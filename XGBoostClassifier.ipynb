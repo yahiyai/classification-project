{
  "nbformat": 4,
  "nbformat_minor": 0,
  "metadata": {
    "colab": {
      "name": "XGBoost_updated_v3.ipynb",
      "provenance": []
    },
    "kernelspec": {
      "name": "python3",
      "display_name": "Python 3"
    },
    "language_info": {
      "name": "python"
    }
  },
  "cells": [
    {
      "cell_type": "code",
      "execution_count": 12,
      "metadata": {
        "id": "aBzNMoE-WXbd"
      },
      "outputs": [],
      "source": [
        "import numpy as np\n",
        "import matplotlib.pyplot as plt\n",
        "import pandas as pd\n",
        "import seaborn as sns\n",
        "from pylab import rcParams"
      ]
    },
    {
      "cell_type": "code",
      "source": [
        "# load dataset\n",
        "dataset = pd.read_csv('train.csv',index_col=None)\n",
        "dataset = dataset[dataset.columns[[1,2,3,6,7,9,10,14,15,16,17,18,19,20,21,23,24,25,26,27,28,29,30,31,32,33,34]]]\n",
        "dataset = pd.get_dummies(dataset, drop_first=True)"
      ],
      "metadata": {
        "id": "AtdPmBYoWbtb"
      },
      "execution_count": 22,
      "outputs": []
    },
    {
      "cell_type": "code",
      "source": [
        "X, y = dataset.drop('Loan Status',axis=1), dataset['Loan Status']"
      ],
      "metadata": {
        "id": "_JLVN68HWb55"
      },
      "execution_count": 23,
      "outputs": []
    },
    {
      "cell_type": "code",
      "source": [
        "# Synthetic Minority Oversampling Technique \n",
        "from imblearn.over_sampling import SMOTE\n",
        "\n",
        "smote = SMOTE(sampling_strategy='minority')"
      ],
      "metadata": {
        "id": "JiTcrmZcWcGH"
      },
      "execution_count": 24,
      "outputs": []
    },
    {
      "cell_type": "code",
      "source": [
        "X_sm, y_sm = smote.fit_resample(X, y)"
      ],
      "metadata": {
        "id": "DRVlV_0VYQNq"
      },
      "execution_count": 25,
      "outputs": []
    },
    {
      "cell_type": "code",
      "source": [
        "from sklearn.model_selection import train_test_split\n",
        "X_train, X_test, y_train, y_test = train_test_split(X_sm, y_sm, test_size = 0.2, random_state = 0)"
      ],
      "metadata": {
        "id": "ipu0hrH3WcKa"
      },
      "execution_count": 35,
      "outputs": []
    },
    {
      "cell_type": "code",
      "source": [
        "%%time\n",
        "from xgboost import XGBClassifier\n",
        "xgb_classifier = XGBClassifier(colsample_bytree= 0.5,gamma=0.2, learning_rate=0.2,max_depth=6,min_child_weight=3)\n",
        "xgb_classifier.fit(X_train, y_train)"
      ],
      "metadata": {
        "colab": {
          "base_uri": "https://localhost:8080/"
        },
        "id": "N0AK2FQtXIzV",
        "outputId": "710fde61-c0f4-4656-d3b3-ae8fc597444e"
      },
      "execution_count": 36,
      "outputs": [
        {
          "output_type": "stream",
          "name": "stdout",
          "text": [
            "CPU times: user 15.6 s, sys: 23.8 ms, total: 15.6 s\n",
            "Wall time: 15.6 s\n"
          ]
        }
      ]
    },
    {
      "cell_type": "code",
      "source": [
        "from sklearn.model_selection import cross_val_score\n",
        "accuracies = cross_val_score(estimator = xgb_classifier, X = X_train, y = y_train, cv = 5)\n",
        "print(\"Accuracy: {:.2f} %\".format(accuracies.mean()*100))\n",
        "print(\"Standard Deviation: {:.2f} %\".format(accuracies.std()*100))"
      ],
      "metadata": {
        "colab": {
          "base_uri": "https://localhost:8080/"
        },
        "id": "hQdqbiZKX1ub",
        "outputId": "10675b61-f718-43f5-a26d-26918a1fa5de"
      },
      "execution_count": 37,
      "outputs": [
        {
          "output_type": "stream",
          "name": "stdout",
          "text": [
            "Accuracy: 84.43 %\n",
            "Standard Deviation: 0.14 %\n"
          ]
        }
      ]
    },
    {
      "cell_type": "code",
      "source": [
        "y_pred = xgb_classifier.predict(X_test)"
      ],
      "metadata": {
        "id": "74yAzHJCXI47"
      },
      "execution_count": 38,
      "outputs": []
    },
    {
      "cell_type": "code",
      "source": [
        "from sklearn.metrics import classification_report\n",
        "labels = ['Not a loan defaulter','A loan defaulter']\n",
        "print(classification_report(y_test,xgb_classifier.predict(X_test),target_names=labels))"
      ],
      "metadata": {
        "colab": {
          "base_uri": "https://localhost:8080/"
        },
        "id": "_ttd_fmEXI-b",
        "outputId": "6a9b75f5-292e-4546-e2c4-b6a9c2e97ab7"
      },
      "execution_count": 39,
      "outputs": [
        {
          "output_type": "stream",
          "name": "stdout",
          "text": [
            "                      precision    recall  f1-score   support\n",
            "\n",
            "Not a loan defaulter       0.84      0.86      0.85     12205\n",
            "    A loan defaulter       0.86      0.83      0.85     12284\n",
            "\n",
            "            accuracy                           0.85     24489\n",
            "           macro avg       0.85      0.85      0.85     24489\n",
            "        weighted avg       0.85      0.85      0.85     24489\n",
            "\n"
          ]
        }
      ]
    },
    {
      "cell_type": "code",
      "source": [
        "from sklearn.metrics import confusion_matrix\n",
        "cn_matrix = confusion_matrix(y_test, y_pred)\n",
        "cn_matrix"
      ],
      "metadata": {
        "colab": {
          "base_uri": "https://localhost:8080/"
        },
        "id": "Vxw7W5v8WcWv",
        "outputId": "2b9c52c9-6f36-42c2-8d17-61274e5ef8dd"
      },
      "execution_count": 40,
      "outputs": [
        {
          "output_type": "execute_result",
          "data": {
            "text/plain": [
              "array([[10545,  1660],\n",
              "       [ 2078, 10206]])"
            ]
          },
          "metadata": {},
          "execution_count": 40
        }
      ]
    },
    {
      "cell_type": "code",
      "source": [
        "# Confusion matrix XGBClassifier\n",
        "rcParams['figure.figsize'] = 7, 6\n",
        "sns.heatmap(cn_matrix, annot=False, cbar=True,fmt='g')\n",
        "# plt.savefig('XGBClassifier_matrix_v2.svg', dpi=720);\n",
        "plt.show()"
      ],
      "metadata": {
        "colab": {
          "base_uri": "https://localhost:8080/",
          "height": 374
        },
        "id": "32wNvdrOXY_W",
        "outputId": "133e0e2e-206b-44a4-eb6f-df64a4e4c056"
      },
      "execution_count": 33,
      "outputs": [
        {
          "output_type": "display_data",
          "data": {
            "image/png": "[encoded data removed]",
            "text/plain": [
              "<Figure size 504x432 with 2 Axes>"
            ]
          },
          "metadata": {
            "needs_background": "light"
          }
        }
      ]
    },
    {
      "cell_type": "code",
      "source": [
        ""
      ],
      "metadata": {
        "id": "8dsyY5VgXZC6"
      },
      "execution_count": null,
      "outputs": []
    }
  ]
}