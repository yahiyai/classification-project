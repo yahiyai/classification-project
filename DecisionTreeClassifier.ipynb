{
  "cells": [
    {
      "cell_type": "code",
      "execution_count": null,
      "metadata": {
        "id": "JWsfVZEdnNf5"
      },
      "outputs": [],
      "source": [
        "import numpy as np\n",
        "import pandas as pd\n",
        "import seaborn as sns\n",
        "from pylab import rcParams\n",
        "from scipy.stats import randint\n",
        "import matplotlib.pyplot as plt\n",
        "from sklearn.tree import DecisionTreeClassifier\n",
        "from sklearn.metrics import confusion_matrix, accuracy_score"
      ]
    },
    {
      "cell_type": "code",
      "execution_count": null,
      "metadata": {
        "id": "ta-H8zSTnNf-"
      },
      "outputs": [],
      "source": [
        "# load dataset\n",
        "dataset = pd.read_csv('train.csv',index_col=None)\n",
        "dataset = dataset[dataset.columns[[1,2,3,6,7,9,10,14,15,16,17,18,19,20,21,23,24,25,26,27,28,29,30,31,32,33,34]]]\n",
        "dataset = pd.get_dummies(dataset, drop_first=True)"
      ]
    },
    {
      "cell_type": "code",
      "execution_count": null,
      "metadata": {
        "id": "xFEjR4LYnNf_"
      },
      "outputs": [],
      "source": [
        "X, y = dataset.drop('Loan Status',axis=1), dataset['Loan Status']"
      ]
    },
    {
      "cell_type": "code",
      "execution_count": null,
      "metadata": {
        "id": "aCLzpmNOnNgA"
      },
      "outputs": [],
      "source": [
        "# Synthetic Minority Oversampling Technique \n",
        "from imblearn.over_sampling import SMOTE\n",
        "\n",
        "smote = SMOTE(sampling_strategy='minority')\n"
      ]
    },
    {
      "cell_type": "code",
      "execution_count": null,
      "metadata": {
        "id": "IE-1dtHFnnBr"
      },
      "outputs": [],
      "source": [
        "X_sm, y_sm = smote.fit_resample(X, y)"
      ]
    },
    {
      "cell_type": "code",
      "execution_count": null,
      "metadata": {
        "id": "QFnKm0DXnNgB"
      },
      "outputs": [],
      "source": [
        "from sklearn.model_selection import train_test_split\n",
        "X_train, X_test, y_train, y_test = train_test_split(X_sm, y_sm, test_size = 0.20, random_state = 0)"
      ]
    },
    {
      "cell_type": "markdown",
      "metadata": {
        "id": "vqpJuk7inNgB"
      },
      "source": [
        "## k-Fold Cross Validation"
      ]
    },
    {
      "cell_type": "code",
      "execution_count": null,
      "metadata": {
        "colab": {
          "base_uri": "https://localhost:8080/"
        },
        "id": "4p4iTIYynNgE",
        "outputId": "5d508480-967a-47b0-b170-130686c0e9ad"
      },
      "outputs": [
        {
          "name": "stdout",
          "output_type": "stream",
          "text": [
            "Accuracy: 78.71 %\n",
            "Standard Deviation: 0.35 %\n"
          ]
        }
      ],
      "source": [
        "from sklearn.model_selection import cross_val_score\n",
        "tree_classifier = DecisionTreeClassifier(criterion = 'entropy', random_state = 42)\n",
        "accuracies = cross_val_score(estimator = tree_classifier, X = X_train, y = y_train, cv = 5)\n",
        "print(\"Accuracy: {:.2f} %\".format(accuracies.mean()*100))\n",
        "print(\"Standard Deviation: {:.2f} %\".format(accuracies.std()*100))"
      ]
    },
    {
      "cell_type": "code",
      "execution_count": null,
      "metadata": {
        "colab": {
          "background_save": true
        },
        "id": "kChZS8QFnNgG"
      },
      "outputs": [],
      "source": [
        "tree_classifier.fit(X_train, y_train)\n",
        "y_pred = tree_classifier.predict(X_test)"
      ]
    },
    {
      "cell_type": "code",
      "execution_count": null,
      "metadata": {
        "colab": {
          "background_save": true,
          "base_uri": "https://localhost:8080/"
        },
        "id": "vNHl04ZVnNgH",
        "outputId": "5eeffc18-7098-4b33-e7b8-3c73c0ec26bc"
      },
      "outputs": [
        {
          "name": "stdout",
          "output_type": "stream",
          "text": [
            "                      precision    recall  f1-score   support\n",
            "\n",
            "Not a loan defaulter       0.81      0.77      0.79     12205\n",
            "    A loan defaulter       0.78      0.82      0.80     12284\n",
            "\n",
            "            accuracy                           0.80     24489\n",
            "           macro avg       0.80      0.80      0.80     24489\n",
            "        weighted avg       0.80      0.80      0.80     24489\n",
            "\n"
          ]
        }
      ],
      "source": [
        "# DecisionTreeClassifier\n",
        "from sklearn.metrics import classification_report\n",
        "labels = ['Not a loan defaulter','A loan defaulter']\n",
        "print(classification_report(y_test, y_pred, target_names=labels))\n",
        "\n"
      ]
    },
    {
      "cell_type": "code",
      "execution_count": null,
      "metadata": {
        "colab": {
          "background_save": true,
          "base_uri": "https://localhost:8080/"
        },
        "id": "WvzOC8QUnNgI",
        "outputId": "14258087-53fb-4fba-8d7d-811a402b179d"
      },
      "outputs": [
        {
          "data": {
            "text/plain": [
              "array([[ 9396,  2809],\n",
              "       [ 2198, 10086]])"
            ]
          },
          "execution_count": null,
          "metadata": {},
          "output_type": "execute_result"
        }
      ],
      "source": [
        "cn_matrix = confusion_matrix(y_test, y_pred)\n",
        "cn_matrix"
      ]
    },
    {
      "cell_type": "code",
      "execution_count": 17,
      "metadata": {
        "colab": {
          "base_uri": "https://localhost:8080/",
          "height": 375
        },
        "id": "lFLzFoBLnNgJ",
        "outputId": "ddaf9b52-3baa-4a71-ab0a-cbda30ebb908"
      },
      "outputs": [
        {
          "output_type": "display_data",
          "data": {
            "image/png": "[encoded data removed]",
            "text/plain": [
              "<Figure size 504x432 with 2 Axes>"
            ]
          },
          "metadata": {
            "needs_background": "light"
          }
        }
      ],
      "source": [
        "# Confusion matrix DecisionTreeClassifier\n",
        "rcParams['figure.figsize'] = 7, 6\n",
        "sns.heatmap(cn_matrix, annot=True, cbar=True,fmt='g')\n",
        "plt.savefig('DecisionTreeClassifier_matrix_v3.png', dpi=720);\n",
        "plt.show()"
      ]
    }
  ],
  "metadata": {
    "colab": {
      "name": "DecisionTreeClassifier_updated_v3.ipynb",
      "provenance": []
    },
    "kernelspec": {
      "display_name": "Python 3",
      "language": "python",
      "name": "python3"
    },
    "language_info": {
      "codemirror_mode": {
        "name": "ipython",
        "version": 3
      },
      "file_extension": ".py",
      "mimetype": "text/x-python",
      "name": "python",
      "nbconvert_exporter": "python",
      "pygments_lexer": "ipython3",
      "version": "3.7.4"
    }
  },
  "nbformat": 4,
  "nbformat_minor": 0
}